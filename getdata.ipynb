{
 "cells": [
  {
   "cell_type": "code",
   "execution_count": 1,
   "metadata": {},
   "outputs": [
    {
     "name": "stderr",
     "output_type": "stream",
     "text": [
      "c:\\Users\\marku\\AppData\\Local\\Programs\\Python\\Python313\\Lib\\site-packages\\tqdm\\auto.py:21: TqdmWarning: IProgress not found. Please update jupyter and ipywidgets. See https://ipywidgets.readthedocs.io/en/stable/user_install.html\n",
      "  from .autonotebook import tqdm as notebook_tqdm\n"
     ]
    },
    {
     "name": "stdout",
     "output_type": "stream",
     "text": [
      "Warning: Looks like you're using an outdated `kagglehub` version, please consider updating (latest version: 0.3.12)\n",
      "Path to dataset files: C:\\Users\\marku\\.cache\\kagglehub\\datasets\\asaniczka\\linkedin-data-engineer-job-postings\\versions\\7\n"
     ]
    }
   ],
   "source": [
    "import kagglehub\n",
    "\n",
    "# Download latest version\n",
    "path = kagglehub.dataset_download(\"asaniczka/linkedin-data-engineer-job-postings\")\n",
    "\n",
    "print(\"Path to dataset files:\", path)"
   ]
  },
  {
   "cell_type": "code",
   "execution_count": 2,
   "metadata": {},
   "outputs": [
    {
     "name": "stdout",
     "output_type": "stream",
     "text": [
      "Warning: Looks like you're using an outdated `kagglehub` version, please consider updating (latest version: 0.3.12)\n",
      "Filer kopierade till: c:\\Users\\marku\\OneDrive - Nackademin AB\\Skoj\\airflow\n"
     ]
    }
   ],
   "source": [
    "import kagglehub\n",
    "import shutil\n",
    "import os\n",
    "\n",
    "# Ladda ner datasetet\n",
    "path = kagglehub.dataset_download(\"asaniczka/linkedin-data-engineer-job-postings\")\n",
    "\n",
    "# Din nuvarande arbetsmapp (där du kör koden från)\n",
    "current_dir = os.getcwd()\n",
    "\n",
    "# Kopiera alla filer från nedladdningsmappen till din nuvarande mapp\n",
    "for file_name in os.listdir(path):\n",
    "    full_file_path = os.path.join(path, file_name)\n",
    "    if os.path.isfile(full_file_path):\n",
    "        shutil.copy(full_file_path, current_dir)\n",
    "\n",
    "print(\"Filer kopierade till:\", current_dir)\n"
   ]
  }
 ],
 "metadata": {
  "kernelspec": {
   "display_name": "Python 3",
   "language": "python",
   "name": "python3"
  },
  "language_info": {
   "codemirror_mode": {
    "name": "ipython",
    "version": 3
   },
   "file_extension": ".py",
   "mimetype": "text/x-python",
   "name": "python",
   "nbconvert_exporter": "python",
   "pygments_lexer": "ipython3",
   "version": "3.13.0"
  }
 },
 "nbformat": 4,
 "nbformat_minor": 2
}
